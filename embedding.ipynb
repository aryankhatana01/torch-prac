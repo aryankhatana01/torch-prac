{
 "cells": [
  {
   "cell_type": "code",
   "execution_count": 3,
   "id": "0ab31c86",
   "metadata": {},
   "outputs": [],
   "source": [
    "import torch\n",
    "import numpy as np\n",
    "import torch.nn.functional as F\n",
    "\n",
    "import matplotlib.pyplot as plt\n",
    "%matplotlib inline\n"
   ]
  },
  {
   "cell_type": "code",
   "execution_count": 4,
   "id": "a2574ca4",
   "metadata": {},
   "outputs": [
    {
     "data": {
      "text/plain": [
       "['emma', 'olivia', 'ava', 'isabella', 'sophia', 'charlotte', 'mia', 'amelia']"
      ]
     },
     "execution_count": 4,
     "metadata": {},
     "output_type": "execute_result"
    }
   ],
   "source": [
    "# read in all the words\n",
    "words = open('names.txt', 'r').read().splitlines()\n",
    "words[:8]"
   ]
  },
  {
   "cell_type": "code",
   "execution_count": 5,
   "id": "c4e254aa",
   "metadata": {},
   "outputs": [
    {
     "data": {
      "text/plain": [
       "32033"
      ]
     },
     "execution_count": 5,
     "metadata": {},
     "output_type": "execute_result"
    }
   ],
   "source": [
    "len(words)"
   ]
  },
  {
   "cell_type": "code",
   "execution_count": 11,
   "id": "7a4c0527",
   "metadata": {},
   "outputs": [
    {
     "data": {
      "text/plain": [
       "{1: 'a',\n",
       " 2: 'b',\n",
       " 3: 'c',\n",
       " 4: 'd',\n",
       " 5: 'e',\n",
       " 6: 'f',\n",
       " 7: 'g',\n",
       " 8: 'h',\n",
       " 9: 'i',\n",
       " 10: 'j',\n",
       " 11: 'k',\n",
       " 12: 'l',\n",
       " 13: 'm',\n",
       " 14: 'n',\n",
       " 15: 'o',\n",
       " 16: 'p',\n",
       " 17: 'q',\n",
       " 18: 'r',\n",
       " 19: 's',\n",
       " 20: 't',\n",
       " 21: 'u',\n",
       " 22: 'v',\n",
       " 23: 'w',\n",
       " 24: 'x',\n",
       " 25: 'y',\n",
       " 26: 'z',\n",
       " 0: '.'}"
      ]
     },
     "execution_count": 11,
     "metadata": {},
     "output_type": "execute_result"
    }
   ],
   "source": [
    "# build dictionaries for vocabulary\n",
    "letters = list(set(\"\".join(words)))\n",
    "letters = sorted(letters)\n",
    "\n",
    "# convert string to integers\n",
    "stoi = {s:i+1 for i, s in enumerate(letters)}\n",
    "stoi['.'] = 0\n",
    "\n",
    "# convert integers to string\n",
    "itos = {i:s for s, i in stoi.items()}\n",
    "itos"
   ]
  },
  {
   "cell_type": "code",
   "execution_count": 19,
   "id": "2b14faef",
   "metadata": {},
   "outputs": [
    {
     "name": "stdout",
     "output_type": "stream",
     "text": [
      "... ---> e\n",
      "..e ---> m\n",
      ".em ---> m\n",
      "emm ---> a\n",
      "mma ---> .\n"
     ]
    }
   ],
   "source": [
    "# build the dataset\n",
    "\n",
    "block_size = 3 # context length: how many characters do we take to predict the next one?\n",
    "X, Y = [], []\n",
    "for w in words[:1]:\n",
    "    context = [0] * block_size\n",
    "#     print(context)\n",
    "    for ch in w + '.':\n",
    "        ix = stoi[ch]\n",
    "#         print(ch, \"-->\", ix)\n",
    "        X.append(context)\n",
    "        Y.append(ix)\n",
    "        print(''.join(itos[i] for i in context), '--->', itos[ix])\n",
    "        context = context[1:] + [ix] # crop and append\n",
    "        \n",
    "X = torch.tensor(X)\n",
    "Y = torch.tensor(Y)"
   ]
  },
  {
   "cell_type": "code",
   "execution_count": 21,
   "id": "1c73a41d",
   "metadata": {},
   "outputs": [
    {
     "data": {
      "text/plain": [
       "(torch.Size([5, 3]), torch.Size([5]))"
      ]
     },
     "execution_count": 21,
     "metadata": {},
     "output_type": "execute_result"
    }
   ],
   "source": [
    "X.shape, Y.shape"
   ]
  },
  {
   "cell_type": "code",
   "execution_count": 39,
   "id": "3130a311",
   "metadata": {},
   "outputs": [
    {
     "data": {
      "text/plain": [
       "tensor([[ 0,  0,  0],\n",
       "        [ 0,  0,  5],\n",
       "        [ 0,  5, 13],\n",
       "        [ 5, 13, 13],\n",
       "        [13, 13,  1]])"
      ]
     },
     "execution_count": 39,
     "metadata": {},
     "output_type": "execute_result"
    }
   ],
   "source": [
    "X"
   ]
  },
  {
   "cell_type": "code",
   "execution_count": 26,
   "id": "83e3ae7b",
   "metadata": {},
   "outputs": [],
   "source": [
    "C = torch.randn((27, 2))"
   ]
  },
  {
   "cell_type": "code",
   "execution_count": 27,
   "id": "c4ae4de9",
   "metadata": {},
   "outputs": [
    {
     "data": {
      "text/plain": [
       "tensor([[-0.6065,  0.7123],\n",
       "        [-0.3051, -0.7095],\n",
       "        [ 1.3486,  1.3045],\n",
       "        [ 0.2338, -0.1987],\n",
       "        [-1.1582, -1.1579],\n",
       "        [-1.0614, -2.1421],\n",
       "        [-1.1451,  1.7083],\n",
       "        [ 0.5922,  1.7476],\n",
       "        [-0.3254,  1.1892],\n",
       "        [ 0.9966, -1.7073],\n",
       "        [ 0.1923, -0.4872],\n",
       "        [ 0.3349,  0.7023],\n",
       "        [ 0.7533,  0.4956],\n",
       "        [ 0.9871,  0.2496],\n",
       "        [ 0.7430,  0.8056],\n",
       "        [-1.8598,  0.2690],\n",
       "        [ 0.3519,  0.3499],\n",
       "        [-0.0541, -0.2707],\n",
       "        [ 0.1650,  0.7541],\n",
       "        [-1.3372, -0.2542],\n",
       "        [-0.5695,  1.3477],\n",
       "        [ 0.0484, -1.1394],\n",
       "        [-0.3579, -1.5169],\n",
       "        [-0.4982,  1.4325],\n",
       "        [ 0.2061,  0.8524],\n",
       "        [ 0.6043, -0.5627],\n",
       "        [ 0.8335, -0.5254]])"
      ]
     },
     "execution_count": 27,
     "metadata": {},
     "output_type": "execute_result"
    }
   ],
   "source": [
    "C"
   ]
  },
  {
   "cell_type": "code",
   "execution_count": 37,
   "id": "ef63d6a8",
   "metadata": {
    "scrolled": true
   },
   "outputs": [
    {
     "data": {
      "text/plain": [
       "tensor([[[-0.6065,  0.7123],\n",
       "         [-0.6065,  0.7123],\n",
       "         [-0.6065,  0.7123]],\n",
       "\n",
       "        [[-0.6065,  0.7123],\n",
       "         [-0.6065,  0.7123],\n",
       "         [-1.0614, -2.1421]],\n",
       "\n",
       "        [[-0.6065,  0.7123],\n",
       "         [-1.0614, -2.1421],\n",
       "         [ 0.9871,  0.2496]],\n",
       "\n",
       "        [[-1.0614, -2.1421],\n",
       "         [ 0.9871,  0.2496],\n",
       "         [ 0.9871,  0.2496]],\n",
       "\n",
       "        [[ 0.9871,  0.2496],\n",
       "         [ 0.9871,  0.2496],\n",
       "         [-0.3051, -0.7095]]])"
      ]
     },
     "execution_count": 37,
     "metadata": {},
     "output_type": "execute_result"
    }
   ],
   "source": [
    "emb = C[X]\n",
    "emb"
   ]
  },
  {
   "cell_type": "code",
   "execution_count": 38,
   "id": "8875d9f0",
   "metadata": {},
   "outputs": [
    {
     "data": {
      "text/plain": [
       "torch.Size([5, 3, 2])"
      ]
     },
     "execution_count": 38,
     "metadata": {},
     "output_type": "execute_result"
    }
   ],
   "source": [
    "emb.shape"
   ]
  },
  {
   "cell_type": "code",
   "execution_count": null,
   "id": "29440269",
   "metadata": {},
   "outputs": [],
   "source": []
  }
 ],
 "metadata": {
  "kernelspec": {
   "display_name": "Python 3 (ipykernel)",
   "language": "python",
   "name": "python3"
  },
  "language_info": {
   "codemirror_mode": {
    "name": "ipython",
    "version": 3
   },
   "file_extension": ".py",
   "mimetype": "text/x-python",
   "name": "python",
   "nbconvert_exporter": "python",
   "pygments_lexer": "ipython3",
   "version": "3.9.7"
  }
 },
 "nbformat": 4,
 "nbformat_minor": 5
}
